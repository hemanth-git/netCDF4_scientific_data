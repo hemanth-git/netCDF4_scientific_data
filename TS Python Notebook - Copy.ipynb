{
 "cells": [
  {
   "cell_type": "code",
   "execution_count": 17,
   "metadata": {},
   "outputs": [],
   "source": [
    "from netCDF4 import Dataset,MFDataset"
   ]
  },
  {
   "cell_type": "code",
   "execution_count": 4,
   "metadata": {},
   "outputs": [],
   "source": [
    "nc=Dataset('fwproject\\\\TS_fire_online_01_2017.08_NA2.nc','r')"
   ]
  },
  {
   "cell_type": "code",
   "execution_count": 18,
   "metadata": {},
   "outputs": [],
   "source": [
    "TS_fire=MFDataset('fwproject\\\\TS_fire_online_*nc','r')\n",
    "TS_nofire=MFDataset('fwproject\\\\TS_nofire_online_*nc','r')"
   ]
  },
  {
   "cell_type": "code",
   "execution_count": 5,
   "metadata": {
    "scrolled": true
   },
   "outputs": [
    {
     "name": "stdout",
     "output_type": "stream",
     "text": [
      "TS\n",
      "lat\n",
      "lon\n",
      "time\n",
      "time_bnds\n"
     ]
    }
   ],
   "source": [
    "for i in nc.variables:\n",
    "    #print(i)\n",
    "    print(i)"
   ]
  },
  {
   "cell_type": "code",
   "execution_count": 20,
   "metadata": {},
   "outputs": [
    {
     "name": "stdout",
     "output_type": "stream",
     "text": [
      "TS\n",
      "lat\n",
      "lon\n",
      "time\n",
      "time_bnds\n"
     ]
    }
   ],
   "source": [
    "for i in TS_fire.variables:\n",
    "    #print(i)\n",
    "    print(i)"
   ]
  },
  {
   "cell_type": "code",
   "execution_count": 6,
   "metadata": {},
   "outputs": [
    {
     "data": {
      "text/plain": [
       "(OrderedDict([('TS', <class 'netCDF4._netCDF4.Variable'>\n",
       "               float32 TS(time, lat, lon)\n",
       "                   long_name: Surface temperature (radiative)\n",
       "                   units: K\n",
       "                   cell_methods: time: mean\n",
       "               unlimited dimensions: time\n",
       "               current shape = (1, 53, 89)\n",
       "               filling on, default _FillValue of 9.969209968386869e+36 used),\n",
       "              ('lat', <class 'netCDF4._netCDF4.Variable'>\n",
       "               float64 lat(lat)\n",
       "                   standard_name: latitude\n",
       "                   long_name: latitude\n",
       "                   units: degrees_north\n",
       "                   axis: Y\n",
       "               unlimited dimensions: \n",
       "               current shape = (53,)\n",
       "               filling on, default _FillValue of 9.969209968386869e+36 used),\n",
       "              ('lon', <class 'netCDF4._netCDF4.Variable'>\n",
       "               float64 lon(lon)\n",
       "                   standard_name: longitude\n",
       "                   long_name: longitude\n",
       "                   units: degrees_east\n",
       "                   axis: X\n",
       "               unlimited dimensions: \n",
       "               current shape = (89,)\n",
       "               filling on, default _FillValue of 9.969209968386869e+36 used),\n",
       "              ('time', <class 'netCDF4._netCDF4.Variable'>\n",
       "               float64 time(time)\n",
       "                   standard_name: time\n",
       "                   long_name: time\n",
       "                   bounds: time_bnds\n",
       "                   units: days since 2017-4-1 00:00:00\n",
       "                   calendar: 365_day\n",
       "                   axis: T\n",
       "               unlimited dimensions: time\n",
       "               current shape = (1,)\n",
       "               filling on, default _FillValue of 9.969209968386869e+36 used),\n",
       "              ('time_bnds', <class 'netCDF4._netCDF4.Variable'>\n",
       "               float64 time_bnds(time, bnds)\n",
       "               unlimited dimensions: time\n",
       "               current shape = (1, 2)\n",
       "               filling on, default _FillValue of 9.969209968386869e+36 used)]),\n",
       " <class 'netCDF4._netCDF4.Variable'>\n",
       " float64 lat(lat)\n",
       "     standard_name: latitude\n",
       "     long_name: latitude\n",
       "     units: degrees_north\n",
       "     axis: Y\n",
       " unlimited dimensions: \n",
       " current shape = (53,)\n",
       " filling on, default _FillValue of 9.969209968386869e+36 used)"
      ]
     },
     "execution_count": 6,
     "metadata": {},
     "output_type": "execute_result"
    }
   ],
   "source": [
    "nc.variables,nc.variables['lat']"
   ]
  },
  {
   "cell_type": "code",
   "execution_count": 29,
   "metadata": {},
   "outputs": [
    {
     "data": {
      "text/plain": [
       "OrderedDict([('time',\n",
       "              <class 'netCDF4._netCDF4.Dimension'> (unlimited): name = 'time', size = 1),\n",
       "             ('lat',\n",
       "              <class 'netCDF4._netCDF4.Dimension'>: name = 'lat', size = 53),\n",
       "             ('lon',\n",
       "              <class 'netCDF4._netCDF4.Dimension'>: name = 'lon', size = 89),\n",
       "             ('bnds',\n",
       "              <class 'netCDF4._netCDF4.Dimension'>: name = 'bnds', size = 2)])"
      ]
     },
     "execution_count": 29,
     "metadata": {},
     "output_type": "execute_result"
    }
   ],
   "source": [
    "nc.dimensions"
   ]
  },
  {
   "cell_type": "code",
   "execution_count": 31,
   "metadata": {},
   "outputs": [
    {
     "data": {
      "text/plain": [
       "('time', 'bnds')"
      ]
     },
     "execution_count": 31,
     "metadata": {},
     "output_type": "execute_result"
    }
   ],
   "source": [
    "nc.variables['time_bnds'].dimensions"
   ]
  },
  {
   "cell_type": "code",
   "execution_count": null,
   "metadata": {},
   "outputs": [],
   "source": []
  },
  {
   "cell_type": "markdown",
   "metadata": {},
   "source": [
    "for nf in range(10):\n",
    " f = Dataset(\"mftest%s.nc\" % nf,\"w\")\n",
    "    f.createDimension(\"x\",None)\n",
    "    x = f.createVariable(\"x\",\"i\",(\"x\",))\n",
    "     x[0:10] = numpy.arange(nf*10,10*(nf+1))\n",
    "     f.close()"
   ]
  },
  {
   "cell_type": "code",
   "execution_count": 33,
   "metadata": {},
   "outputs": [
    {
     "name": "stdout",
     "output_type": "stream",
     "text": [
      "<class 'netCDF4._netCDF4.Dataset'>\n",
      "root group (NETCDF3_64BIT data model, file format NETCDF3):\n",
      "    CDI: Climate Data Interface version 1.7.2 (http://mpimet.mpg.de/cdi)\n",
      "    Conventions: CF-1.0\n",
      "    history: Fri Dec 21 09:30:55 2018: ncks -O -d lon,200.,310. -d lat,20.,70. /glade/work/dianab/new_proc/online//fire_online_01/TS_fire_online_01_2017.08.nc TS_fire_online_01_2017.08_NA2.nc\n",
      "Fri Sep 14 12:18:04 2018: cdo select,name=TS /glade/scratch_old/dianab/f.e20.FSDC.f09_f09_2017_FIRE_online_01_180803/run/f.e20.FSDC.f09_f09_2017_FIRE_online_01_180803.cam.h0.2017-08.nc TS_fire_online_01_2017.08.nc\n",
      "    source: CAM\n",
      "    case: f.e20.FSDC.f09_f09_2017_FIRE_online_01_180803\n",
      "    title: UNSET\n",
      "    logname: dianab\n",
      "    host: cheyenne4\n",
      "    Version: $Name$\n",
      "    revision_Id: $Id$\n",
      "    initial_file: f.e20.FSDC.f09_f09_2011-2017_FIREx3.5_vert_180708.cam.i.2017-04-01-21600.nc\n",
      "    topography_file: /glade/p/cesmdata/cseg/inputdata/atm/cam/topo/fv_0.9x1.25_nc3000_Nsw042_Nrs008_Co060_Fi001_ZR_geos5_c160702.nc\n",
      "    time_period_freq: month_1\n",
      "    CDO: Climate Data Operators version 1.7.2 (http://mpimet.mpg.de/cdo)\n",
      "    NCO: netCDF Operators version 4.7.4 (http://nco.sf.net)\n",
      "    dimensions(sizes): time(1), lat(53), lon(89), bnds(2)\n",
      "    variables(dimensions): float32 \u001b[4mTS\u001b[0m(time,lat,lon), float64 \u001b[4mlat\u001b[0m(lat), float64 \u001b[4mlon\u001b[0m(lon), float64 \u001b[4mtime\u001b[0m(time), float64 \u001b[4mtime_bnds\u001b[0m(time,bnds)\n",
      "    groups: \n",
      "\n"
     ]
    }
   ],
   "source": [
    "print(nc)"
   ]
  },
  {
   "cell_type": "code",
   "execution_count": 82,
   "metadata": {},
   "outputs": [],
   "source": [
    "lons = nc.variables['lon'][:]\n",
    "lats = nc.variables['lat'][:]\n",
    "ts = nc.variables['TS'][:]\n",
    "\n",
    "ts_units = nc.variables['TS'].units"
   ]
  },
  {
   "cell_type": "code",
   "execution_count": 83,
   "metadata": {},
   "outputs": [
    {
     "data": {
      "text/plain": [
       "((89,), (53,), (1, 53, 89))"
      ]
     },
     "execution_count": 83,
     "metadata": {},
     "output_type": "execute_result"
    }
   ],
   "source": [
    "lons.shape,lats.shape,ts.shape"
   ]
  },
  {
   "cell_type": "code",
   "execution_count": 21,
   "metadata": {
    "scrolled": true
   },
   "outputs": [],
   "source": [
    "lons_fire = TS_fire.variables['lon'][:]\n",
    "lats_fire = TS_fire.variables['lat'][:]\n",
    "ts_fire = TS_fire.variables['TS'][:]\n",
    "\n",
    "ts_units_fire = TS_fire.variables['TS'].units"
   ]
  },
  {
   "cell_type": "code",
   "execution_count": 22,
   "metadata": {},
   "outputs": [
    {
     "data": {
      "text/plain": [
       "((89,), (53,), (21, 53, 89))"
      ]
     },
     "execution_count": 22,
     "metadata": {},
     "output_type": "execute_result"
    }
   ],
   "source": [
    "lons_fire.shape,lats_fire.shape,ts_fire.shape"
   ]
  },
  {
   "cell_type": "code",
   "execution_count": 10,
   "metadata": {
    "scrolled": true
   },
   "outputs": [
    {
     "data": {
      "text/plain": [
       "<class 'netCDF4._netCDF4.Variable'>\n",
       "float32 TS(time, lat, lon)\n",
       "    long_name: Surface temperature (radiative)\n",
       "    units: K\n",
       "    cell_methods: time: mean\n",
       "unlimited dimensions: time\n",
       "current shape = (1, 53, 89)\n",
       "filling on, default _FillValue of 9.969209968386869e+36 used"
      ]
     },
     "execution_count": 10,
     "metadata": {},
     "output_type": "execute_result"
    }
   ],
   "source": [
    "len(lons),len(lats),len(ts)\n",
    "nc.variables.keys()\n",
    "nc.variables['TS']"
   ]
  },
  {
   "cell_type": "code",
   "execution_count": 32,
   "metadata": {},
   "outputs": [
    {
     "name": "stdout",
     "output_type": "stream",
     "text": [
      "[200.   201.25 202.5  203.75 205.   206.25 207.5  208.75 210.   211.25\n",
      " 212.5  213.75 215.   216.25 217.5  218.75 220.   221.25 222.5  223.75\n",
      " 225.   226.25 227.5  228.75 230.   231.25 232.5  233.75 235.   236.25\n",
      " 237.5  238.75 240.   241.25 242.5  243.75 245.   246.25 247.5  248.75\n",
      " 250.   251.25 252.5  253.75 255.   256.25 257.5  258.75 260.   261.25\n",
      " 262.5  263.75 265.   266.25 267.5  268.75 270.   271.25 272.5  273.75\n",
      " 275.   276.25 277.5  278.75 280.   281.25 282.5  283.75 285.   286.25\n",
      " 287.5  288.75 290.   291.25 292.5  293.75 295.   296.25 297.5  298.75\n",
      " 300.   301.25 302.5  303.75 305.   306.25 307.5  308.75 310.  ] [20.2617801  21.20418848 22.14659686 23.08900524 24.03141361 24.97382199\n",
      " 25.91623037 26.85863874 27.80104712 28.7434555  29.68586387 30.62827225\n",
      " 31.57068063 32.51308901 33.45549738 34.39790576 35.34031414 36.28272251\n",
      " 37.22513089 38.16753927 39.10994764 40.05235602 40.9947644  41.93717277\n",
      " 42.87958115 43.82198953 44.76439791 45.70680628 46.64921466 47.59162304\n",
      " 48.53403141 49.47643979 50.41884817 51.36125654 52.30366492 53.2460733\n",
      " 54.18848168 55.13089005 56.07329843 57.01570681 57.95811518 58.90052356\n",
      " 59.84293194 60.78534031 61.72774869 62.67015707 63.61256545 64.55497382\n",
      " 65.4973822  66.43979058 67.38219895 68.32460733 69.26701571] [[[300.86063 300.76196 300.6574  ... 301.22238 301.14532 301.12277]\n",
      "  [300.5201  300.41257 300.34134 ... 301.14435 301.0628  301.0515 ]\n",
      "  [300.14337 300.0224  299.99057 ... 301.11432 301.01407 300.99176]\n",
      "  ...\n",
      "  [282.93866 283.6101  283.4969  ... 280.4468  281.51422 277.79807]\n",
      "  [280.7121  281.2655  281.14685 ... 281.98694 281.65613 274.59637]\n",
      "  [279.95972 280.12302 280.5091  ... 278.58594 282.61847 276.9667 ]]]\n",
      "(89,) (53,) (1, 53, 89)\n"
     ]
    }
   ],
   "source": [
    "print(lons,lats,ts)\n",
    "print(lons.shape,lats.shape,ts.shape)"
   ]
  },
  {
   "cell_type": "code",
   "execution_count": 12,
   "metadata": {},
   "outputs": [
    {
     "name": "stdout",
     "output_type": "stream",
     "text": [
      "[[[300.86063 300.76196 300.6574  ... 301.22238 301.14532 301.12277]\n",
      "  [300.5201  300.41257 300.34134 ... 301.14435 301.0628  301.0515 ]\n",
      "  [300.14337 300.0224  299.99057 ... 301.11432 301.01407 300.99176]\n",
      "  ...\n",
      "  [282.93866 283.6101  283.4969  ... 280.4468  281.51422 277.79807]\n",
      "  [280.7121  281.2655  281.14685 ... 281.98694 281.65613 274.59637]\n",
      "  [279.95972 280.12302 280.5091  ... 278.58594 282.61847 276.9667 ]]]\n",
      "(1, 53, 89)\n"
     ]
    }
   ],
   "source": [
    "TS_list=nc.variables['TS']\n",
    "Ts_list=TS_list[:]\n",
    "print(Ts_list)\n",
    "print(Ts_list.shape)"
   ]
  },
  {
   "cell_type": "code",
   "execution_count": 13,
   "metadata": {},
   "outputs": [],
   "source": [
    "lon_0 = lons.mean()\n",
    "lat_0 = lats.mean()"
   ]
  },
  {
   "cell_type": "code",
   "execution_count": 84,
   "metadata": {},
   "outputs": [],
   "source": [
    "import numpy as np\n",
    "lons_fire = TS_fire.variables['lon'][:]\n",
    "lats_fire = TS_fire.variables['lat'][:]\n",
    "ts_fire = TS_fire.variables['TS'][:]\n",
    "\n",
    "ts_units_fire = TS_fire.variables['TS'].units"
   ]
  },
  {
   "cell_type": "code",
   "execution_count": 85,
   "metadata": {},
   "outputs": [],
   "source": [
    "ts_fire.shape\n",
    "sample2_np=np.zeros((1,53, 89))\n",
    "for i in range(ts_fire.shape[0]):\n",
    "    sample_np=np.array(ts_fire[i])\n",
    "    sample1_np=sample_np.reshape((1,53, 89))\n",
    "    sample2_np=sample2_np+sample1_np\n",
    "    \n",
    "sample3_np=sample2_np/ts_fire.shape[0]\n"
   ]
  },
  {
   "cell_type": "code",
   "execution_count": 54,
   "metadata": {},
   "outputs": [
    {
     "data": {
      "text/plain": [
       "(53, 89)"
      ]
     },
     "execution_count": 54,
     "metadata": {},
     "output_type": "execute_result"
    }
   ],
   "source": []
  },
  {
   "cell_type": "code",
   "execution_count": null,
   "metadata": {},
   "outputs": [],
   "source": []
  },
  {
   "cell_type": "code",
   "execution_count": 33,
   "metadata": {},
   "outputs": [],
   "source": [
    "lons_fire_0 = lons_fire.mean()\n",
    "lats_fire_0 = lats_fire.mean()\n",
    "ts_fire_0 = ts_fire.mean()"
   ]
  },
  {
   "cell_type": "code",
   "execution_count": 34,
   "metadata": {},
   "outputs": [
    {
     "data": {
      "text/plain": [
       "(255.0, 44.764397905759154, 292.79578)"
      ]
     },
     "execution_count": 34,
     "metadata": {},
     "output_type": "execute_result"
    }
   ],
   "source": [
    "lons_fire_0,lats_fire_0,ts_fire_0"
   ]
  },
  {
   "cell_type": "code",
   "execution_count": 23,
   "metadata": {},
   "outputs": [
    {
     "data": {
      "text/plain": [
       "'\\nprint(\"Hello\")\\nfrom netCDF4 import Dataset\\nimport matplotlib.pyplot as plt\\nfrom mpl_toolkits.basemap import Basemap\\nimport numpy as np\\n\\nnc=Dataset(\\'D:\\\\Data Science\\\\DeepLearning\\\\Time Series\\\\fwproject\\\\TS_fire_online_01_2017.08_NA2.nc\\',\\'r\\')\\nfor i in nc.variables:\\n    #print(i)\\n    print(i)\\n\\nlons = nc.variables[\\'lon\\'][:]\\nlats = nc.variables[\\'lat\\'][:]\\nts = nc.variables[\\'TS\\'][:]\\n\\nts_units = nc.variables[\\'TS\\'].units\\n\\nlon_0 = lons.mean()\\nlat_0 = lats.mean()\\nprint(\"hello3\")\\nm = Basemap(width=5000000,height=3500000,\\n            resolution=\\'l\\',projection=\\'stere\\',            lat_ts=40,lat_0=lat_0,lon_0=lon_0)\\n\\nlon, lat = np.meshgrid(lons, lats)\\nxi, yi = m(lon, lat)\\n# Plot Data\\ncs = m.pcolor(xi,yi,np.squeeze(ts))\\n\\n# Add Grid Lines\\nm.drawparallels(np.arange(-80., 81., 10.), labels=[1,0,0,0], fontsize=10)\\nm.drawmeridians(np.arange(-180., 181., 10.), labels=[0,0,0,1], fontsize=10)\\n\\n# Add Coastlines, States, and Country Boundaries\\nm.drawcoastlines()\\nm.drawstates()\\nm.drawcountries()\\n\\n# Add Colorbar\\ncbar = m.colorbar(cs, location=\\'bottom\\', pad=\"10%\")\\ncbar.set_label(ts_units)\\n\\n# Add Title\\nplt.title(\\'DJF Maximum Temperature\\')\\n\\nplt.show()'"
      ]
     },
     "execution_count": 23,
     "metadata": {},
     "output_type": "execute_result"
    }
   ],
   "source": [
    "\"\"\"\n",
    "print(\"Hello\")\n",
    "from netCDF4 import Dataset\n",
    "import matplotlib.pyplot as plt\n",
    "from mpl_toolkits.basemap import Basemap\n",
    "import numpy as np\n",
    "\n",
    "nc=Dataset('D:\\\\Data Science\\\\DeepLearning\\\\Time Series\\\\fwproject\\\\TS_fire_online_01_2017.08_NA2.nc','r')\n",
    "for i in nc.variables:\n",
    "    #print(i)\n",
    "    print(i)\n",
    "\n",
    "lons = nc.variables['lon'][:]\n",
    "lats = nc.variables['lat'][:]\n",
    "ts = nc.variables['TS'][:]\n",
    "\n",
    "ts_units = nc.variables['TS'].units\n",
    "\n",
    "lon_0 = lons.mean()\n",
    "lat_0 = lats.mean()\n",
    "print(\"hello3\")\n",
    "m = Basemap(width=5000000,height=3500000,\n",
    "            resolution='l',projection='stere',\\\n",
    "            lat_ts=40,lat_0=lat_0,lon_0=lon_0)\n",
    "\n",
    "lon, lat = np.meshgrid(lons, lats)\n",
    "xi, yi = m(lon, lat)\n",
    "# Plot Data\n",
    "cs = m.pcolor(xi,yi,np.squeeze(ts))\n",
    "\n",
    "# Add Grid Lines\n",
    "m.drawparallels(np.arange(-80., 81., 10.), labels=[1,0,0,0], fontsize=10)\n",
    "m.drawmeridians(np.arange(-180., 181., 10.), labels=[0,0,0,1], fontsize=10)\n",
    "\n",
    "# Add Coastlines, States, and Country Boundaries\n",
    "m.drawcoastlines()\n",
    "m.drawstates()\n",
    "m.drawcountries()\n",
    "\n",
    "# Add Colorbar\n",
    "cbar = m.colorbar(cs, location='bottom', pad=\"10%\")\n",
    "cbar.set_label(ts_units)\n",
    "\n",
    "# Add Title\n",
    "plt.title('DJF Maximum Temperature')\n",
    "\n",
    "plt.show()\"\"\""
   ]
  },
  {
   "cell_type": "code",
   "execution_count": null,
   "metadata": {},
   "outputs": [],
   "source": []
  },
  {
   "cell_type": "code",
   "execution_count": null,
   "metadata": {},
   "outputs": [],
   "source": []
  },
  {
   "cell_type": "code",
   "execution_count": null,
   "metadata": {},
   "outputs": [],
   "source": []
  }
 ],
 "metadata": {
  "kernelspec": {
   "display_name": "Python 3",
   "language": "python",
   "name": "python3"
  },
  "language_info": {
   "codemirror_mode": {
    "name": "ipython",
    "version": 3
   },
   "file_extension": ".py",
   "mimetype": "text/x-python",
   "name": "python",
   "nbconvert_exporter": "python",
   "pygments_lexer": "ipython3",
   "version": "3.6.5"
  }
 },
 "nbformat": 4,
 "nbformat_minor": 2
}
